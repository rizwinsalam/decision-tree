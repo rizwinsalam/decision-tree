{
  "nbformat": 4,
  "nbformat_minor": 0,
  "metadata": {
    "colab": {
      "provenance": [],
      "include_colab_link": true
    },
    "kernelspec": {
      "name": "python3",
      "display_name": "Python 3"
    },
    "language_info": {
      "name": "python"
    }
  },
  "cells": [
    {
      "cell_type": "markdown",
      "metadata": {
        "id": "view-in-github",
        "colab_type": "text"
      },
      "source": [
        "<a href=\"https://colab.research.google.com/github/rizwinsalam/decision-tree/blob/main/Decision_tree_maari.ipynb\" target=\"_parent\"><img src=\"https://colab.research.google.com/assets/colab-badge.svg\" alt=\"Open In Colab\"/></a>"
      ]
    },
    {
      "cell_type": "code",
      "execution_count": null,
      "metadata": {
        "id": "2SiWSQb5cz0F"
      },
      "outputs": [],
      "source": [
        "import pandas as pd\n",
        "import numpy as np\n",
        "import matplotlib.pyplot as plt\n",
        "import seaborn as sns\n",
        "from sklearn.datasets import make_classification\n",
        "from sklearn.tree import DecisionTreeClassifier\n",
        "from sklearn.model_selection import train_test_split\n",
        "from sklearn.metrics import precision_score, recall_score, accuracy_score, f1_score, classification_report\n"
      ]
    },
    {
      "cell_type": "code",
      "source": [
        "from google.colab import drive\n",
        "drive.mount('/content/drive')\n",
        "%cd drive/MyDrive/\n",
        "%ls"
      ],
      "metadata": {
        "id": "fIGaJLpOc3nD"
      },
      "execution_count": null,
      "outputs": []
    },
    {
      "cell_type": "code",
      "source": [
        "df=pd.read_csv('data name.csv')\n",
        "df.head()"
      ],
      "metadata": {
        "colab": {
          "base_uri": "https://localhost:8080/",
          "height": 206
        },
        "id": "vy-0tPMndIXv",
        "outputId": "89ffca90-fcde-4379-87c9-7a6526c93ebe"
      },
      "execution_count": null,
      "outputs": [
        {
          "output_type": "execute_result",
          "data": {
            "text/plain": [
              "                  Name  Age  Gender Blood Type Medical Condition  \\\n",
              "0      Tiffany Ramirez   81  Female         O-          Diabetes   \n",
              "1          Ruben Burns   35    Male         O+            Asthma   \n",
              "2            Chad Byrd   61    Male         B-           Obesity   \n",
              "3    Antonio Frederick   49    Male         B-            Asthma   \n",
              "4  Mrs. Brandy Flowers   51    Male         O-         Arthritis   \n",
              "\n",
              "  Admission Type   Medication  Test Results Special Care  \n",
              "0       Elective      Aspirin  Inconclusive          Yes  \n",
              "1      Emergency      Lipitor        Normal           No  \n",
              "2      Emergency      Lipitor        Normal           No  \n",
              "3         Urgent   Penicillin      Abnormal          Yes  \n",
              "4         Urgent  Paracetamol        Normal          Yes  "
            ],
            "text/html": [
              "\n",
              "  <div id=\"df-4717c371-8024-40cf-a19e-784e7e430617\" class=\"colab-df-container\">\n",
              "    <div>\n",
              "<style scoped>\n",
              "    .dataframe tbody tr th:only-of-type {\n",
              "        vertical-align: middle;\n",
              "    }\n",
              "\n",
              "    .dataframe tbody tr th {\n",
              "        vertical-align: top;\n",
              "    }\n",
              "\n",
              "    .dataframe thead th {\n",
              "        text-align: right;\n",
              "    }\n",
              "</style>\n",
              "<table border=\"1\" class=\"dataframe\">\n",
              "  <thead>\n",
              "    <tr style=\"text-align: right;\">\n",
              "      <th></th>\n",
              "      <th>Name</th>\n",
              "      <th>Age</th>\n",
              "      <th>Gender</th>\n",
              "      <th>Blood Type</th>\n",
              "      <th>Medical Condition</th>\n",
              "      <th>Admission Type</th>\n",
              "      <th>Medication</th>\n",
              "      <th>Test Results</th>\n",
              "      <th>Special Care</th>\n",
              "    </tr>\n",
              "  </thead>\n",
              "  <tbody>\n",
              "    <tr>\n",
              "      <th>0</th>\n",
              "      <td>Tiffany Ramirez</td>\n",
              "      <td>81</td>\n",
              "      <td>Female</td>\n",
              "      <td>O-</td>\n",
              "      <td>Diabetes</td>\n",
              "      <td>Elective</td>\n",
              "      <td>Aspirin</td>\n",
              "      <td>Inconclusive</td>\n",
              "      <td>Yes</td>\n",
              "    </tr>\n",
              "    <tr>\n",
              "      <th>1</th>\n",
              "      <td>Ruben Burns</td>\n",
              "      <td>35</td>\n",
              "      <td>Male</td>\n",
              "      <td>O+</td>\n",
              "      <td>Asthma</td>\n",
              "      <td>Emergency</td>\n",
              "      <td>Lipitor</td>\n",
              "      <td>Normal</td>\n",
              "      <td>No</td>\n",
              "    </tr>\n",
              "    <tr>\n",
              "      <th>2</th>\n",
              "      <td>Chad Byrd</td>\n",
              "      <td>61</td>\n",
              "      <td>Male</td>\n",
              "      <td>B-</td>\n",
              "      <td>Obesity</td>\n",
              "      <td>Emergency</td>\n",
              "      <td>Lipitor</td>\n",
              "      <td>Normal</td>\n",
              "      <td>No</td>\n",
              "    </tr>\n",
              "    <tr>\n",
              "      <th>3</th>\n",
              "      <td>Antonio Frederick</td>\n",
              "      <td>49</td>\n",
              "      <td>Male</td>\n",
              "      <td>B-</td>\n",
              "      <td>Asthma</td>\n",
              "      <td>Urgent</td>\n",
              "      <td>Penicillin</td>\n",
              "      <td>Abnormal</td>\n",
              "      <td>Yes</td>\n",
              "    </tr>\n",
              "    <tr>\n",
              "      <th>4</th>\n",
              "      <td>Mrs. Brandy Flowers</td>\n",
              "      <td>51</td>\n",
              "      <td>Male</td>\n",
              "      <td>O-</td>\n",
              "      <td>Arthritis</td>\n",
              "      <td>Urgent</td>\n",
              "      <td>Paracetamol</td>\n",
              "      <td>Normal</td>\n",
              "      <td>Yes</td>\n",
              "    </tr>\n",
              "  </tbody>\n",
              "</table>\n",
              "</div>\n",
              "    <div class=\"colab-df-buttons\">\n",
              "\n",
              "  <div class=\"colab-df-container\">\n",
              "    <button class=\"colab-df-convert\" onclick=\"convertToInteractive('df-4717c371-8024-40cf-a19e-784e7e430617')\"\n",
              "            title=\"Convert this dataframe to an interactive table.\"\n",
              "            style=\"display:none;\">\n",
              "\n",
              "  <svg xmlns=\"http://www.w3.org/2000/svg\" height=\"24px\" viewBox=\"0 -960 960 960\">\n",
              "    <path d=\"M120-120v-720h720v720H120Zm60-500h600v-160H180v160Zm220 220h160v-160H400v160Zm0 220h160v-160H400v160ZM180-400h160v-160H180v160Zm440 0h160v-160H620v160ZM180-180h160v-160H180v160Zm440 0h160v-160H620v160Z\"/>\n",
              "  </svg>\n",
              "    </button>\n",
              "\n",
              "  <style>\n",
              "    .colab-df-container {\n",
              "      display:flex;\n",
              "      gap: 12px;\n",
              "    }\n",
              "\n",
              "    .colab-df-convert {\n",
              "      background-color: #E8F0FE;\n",
              "      border: none;\n",
              "      border-radius: 50%;\n",
              "      cursor: pointer;\n",
              "      display: none;\n",
              "      fill: #1967D2;\n",
              "      height: 32px;\n",
              "      padding: 0 0 0 0;\n",
              "      width: 32px;\n",
              "    }\n",
              "\n",
              "    .colab-df-convert:hover {\n",
              "      background-color: #E2EBFA;\n",
              "      box-shadow: 0px 1px 2px rgba(60, 64, 67, 0.3), 0px 1px 3px 1px rgba(60, 64, 67, 0.15);\n",
              "      fill: #174EA6;\n",
              "    }\n",
              "\n",
              "    .colab-df-buttons div {\n",
              "      margin-bottom: 4px;\n",
              "    }\n",
              "\n",
              "    [theme=dark] .colab-df-convert {\n",
              "      background-color: #3B4455;\n",
              "      fill: #D2E3FC;\n",
              "    }\n",
              "\n",
              "    [theme=dark] .colab-df-convert:hover {\n",
              "      background-color: #434B5C;\n",
              "      box-shadow: 0px 1px 3px 1px rgba(0, 0, 0, 0.15);\n",
              "      filter: drop-shadow(0px 1px 2px rgba(0, 0, 0, 0.3));\n",
              "      fill: #FFFFFF;\n",
              "    }\n",
              "  </style>\n",
              "\n",
              "    <script>\n",
              "      const buttonEl =\n",
              "        document.querySelector('#df-4717c371-8024-40cf-a19e-784e7e430617 button.colab-df-convert');\n",
              "      buttonEl.style.display =\n",
              "        google.colab.kernel.accessAllowed ? 'block' : 'none';\n",
              "\n",
              "      async function convertToInteractive(key) {\n",
              "        const element = document.querySelector('#df-4717c371-8024-40cf-a19e-784e7e430617');\n",
              "        const dataTable =\n",
              "          await google.colab.kernel.invokeFunction('convertToInteractive',\n",
              "                                                    [key], {});\n",
              "        if (!dataTable) return;\n",
              "\n",
              "        const docLinkHtml = 'Like what you see? Visit the ' +\n",
              "          '<a target=\"_blank\" href=https://colab.research.google.com/notebooks/data_table.ipynb>data table notebook</a>'\n",
              "          + ' to learn more about interactive tables.';\n",
              "        element.innerHTML = '';\n",
              "        dataTable['output_type'] = 'display_data';\n",
              "        await google.colab.output.renderOutput(dataTable, element);\n",
              "        const docLink = document.createElement('div');\n",
              "        docLink.innerHTML = docLinkHtml;\n",
              "        element.appendChild(docLink);\n",
              "      }\n",
              "    </script>\n",
              "  </div>\n",
              "\n",
              "\n",
              "<div id=\"df-73bdc6f1-1152-4e6e-b404-a2027821a8bf\">\n",
              "  <button class=\"colab-df-quickchart\" onclick=\"quickchart('df-73bdc6f1-1152-4e6e-b404-a2027821a8bf')\"\n",
              "            title=\"Suggest charts\"\n",
              "            style=\"display:none;\">\n",
              "\n",
              "<svg xmlns=\"http://www.w3.org/2000/svg\" height=\"24px\"viewBox=\"0 0 24 24\"\n",
              "     width=\"24px\">\n",
              "    <g>\n",
              "        <path d=\"M19 3H5c-1.1 0-2 .9-2 2v14c0 1.1.9 2 2 2h14c1.1 0 2-.9 2-2V5c0-1.1-.9-2-2-2zM9 17H7v-7h2v7zm4 0h-2V7h2v10zm4 0h-2v-4h2v4z\"/>\n",
              "    </g>\n",
              "</svg>\n",
              "  </button>\n",
              "\n",
              "<style>\n",
              "  .colab-df-quickchart {\n",
              "      --bg-color: #E8F0FE;\n",
              "      --fill-color: #1967D2;\n",
              "      --hover-bg-color: #E2EBFA;\n",
              "      --hover-fill-color: #174EA6;\n",
              "      --disabled-fill-color: #AAA;\n",
              "      --disabled-bg-color: #DDD;\n",
              "  }\n",
              "\n",
              "  [theme=dark] .colab-df-quickchart {\n",
              "      --bg-color: #3B4455;\n",
              "      --fill-color: #D2E3FC;\n",
              "      --hover-bg-color: #434B5C;\n",
              "      --hover-fill-color: #FFFFFF;\n",
              "      --disabled-bg-color: #3B4455;\n",
              "      --disabled-fill-color: #666;\n",
              "  }\n",
              "\n",
              "  .colab-df-quickchart {\n",
              "    background-color: var(--bg-color);\n",
              "    border: none;\n",
              "    border-radius: 50%;\n",
              "    cursor: pointer;\n",
              "    display: none;\n",
              "    fill: var(--fill-color);\n",
              "    height: 32px;\n",
              "    padding: 0;\n",
              "    width: 32px;\n",
              "  }\n",
              "\n",
              "  .colab-df-quickchart:hover {\n",
              "    background-color: var(--hover-bg-color);\n",
              "    box-shadow: 0 1px 2px rgba(60, 64, 67, 0.3), 0 1px 3px 1px rgba(60, 64, 67, 0.15);\n",
              "    fill: var(--button-hover-fill-color);\n",
              "  }\n",
              "\n",
              "  .colab-df-quickchart-complete:disabled,\n",
              "  .colab-df-quickchart-complete:disabled:hover {\n",
              "    background-color: var(--disabled-bg-color);\n",
              "    fill: var(--disabled-fill-color);\n",
              "    box-shadow: none;\n",
              "  }\n",
              "\n",
              "  .colab-df-spinner {\n",
              "    border: 2px solid var(--fill-color);\n",
              "    border-color: transparent;\n",
              "    border-bottom-color: var(--fill-color);\n",
              "    animation:\n",
              "      spin 1s steps(1) infinite;\n",
              "  }\n",
              "\n",
              "  @keyframes spin {\n",
              "    0% {\n",
              "      border-color: transparent;\n",
              "      border-bottom-color: var(--fill-color);\n",
              "      border-left-color: var(--fill-color);\n",
              "    }\n",
              "    20% {\n",
              "      border-color: transparent;\n",
              "      border-left-color: var(--fill-color);\n",
              "      border-top-color: var(--fill-color);\n",
              "    }\n",
              "    30% {\n",
              "      border-color: transparent;\n",
              "      border-left-color: var(--fill-color);\n",
              "      border-top-color: var(--fill-color);\n",
              "      border-right-color: var(--fill-color);\n",
              "    }\n",
              "    40% {\n",
              "      border-color: transparent;\n",
              "      border-right-color: var(--fill-color);\n",
              "      border-top-color: var(--fill-color);\n",
              "    }\n",
              "    60% {\n",
              "      border-color: transparent;\n",
              "      border-right-color: var(--fill-color);\n",
              "    }\n",
              "    80% {\n",
              "      border-color: transparent;\n",
              "      border-right-color: var(--fill-color);\n",
              "      border-bottom-color: var(--fill-color);\n",
              "    }\n",
              "    90% {\n",
              "      border-color: transparent;\n",
              "      border-bottom-color: var(--fill-color);\n",
              "    }\n",
              "  }\n",
              "</style>\n",
              "\n",
              "  <script>\n",
              "    async function quickchart(key) {\n",
              "      const quickchartButtonEl =\n",
              "        document.querySelector('#' + key + ' button');\n",
              "      quickchartButtonEl.disabled = true;  // To prevent multiple clicks.\n",
              "      quickchartButtonEl.classList.add('colab-df-spinner');\n",
              "      try {\n",
              "        const charts = await google.colab.kernel.invokeFunction(\n",
              "            'suggestCharts', [key], {});\n",
              "      } catch (error) {\n",
              "        console.error('Error during call to suggestCharts:', error);\n",
              "      }\n",
              "      quickchartButtonEl.classList.remove('colab-df-spinner');\n",
              "      quickchartButtonEl.classList.add('colab-df-quickchart-complete');\n",
              "    }\n",
              "    (() => {\n",
              "      let quickchartButtonEl =\n",
              "        document.querySelector('#df-73bdc6f1-1152-4e6e-b404-a2027821a8bf button');\n",
              "      quickchartButtonEl.style.display =\n",
              "        google.colab.kernel.accessAllowed ? 'block' : 'none';\n",
              "    })();\n",
              "  </script>\n",
              "</div>\n",
              "    </div>\n",
              "  </div>\n"
            ]
          },
          "metadata": {},
          "execution_count": 185
        }
      ]
    },
    {
      "cell_type": "code",
      "source": [
        "print(df['Special Care'])"
      ],
      "metadata": {
        "colab": {
          "base_uri": "https://localhost:8080/"
        },
        "id": "yTv_tS7odite",
        "outputId": "fe191bff-03f1-4ce0-b73f-0c2dc55ec058"
      },
      "execution_count": null,
      "outputs": [
        {
          "output_type": "stream",
          "name": "stdout",
          "text": [
            "0     Yes\n",
            "1      No\n",
            "2      No\n",
            "3     Yes\n",
            "4     Yes\n",
            "     ... \n",
            "94    Yes\n",
            "95    Yes\n",
            "96     No\n",
            "97    Yes\n",
            "98    Yes\n",
            "Name: Special Care, Length: 99, dtype: object\n"
          ]
        }
      ]
    },
    {
      "cell_type": "code",
      "source": [
        "d = {'Female': 0, 'Male': 1}\n",
        "df['Gender'] = df['Gender'].map(d)"
      ],
      "metadata": {
        "id": "621jQh5Adiv4"
      },
      "execution_count": null,
      "outputs": []
    },
    {
      "cell_type": "code",
      "source": [
        "d = {'Aspirin': 0, 'Lipitor': 1, 'Penicillin': 2, 'Paracetamol': 3, 'Ibuprofen': 4}\n",
        "df['Medication'] = df['Medication'].map(d)\n",
        "\n",
        "d = {'A-': 0, 'A+': 1, 'AB+': 2, 'AB-': 3, 'O+': 4, 'O-' :5, 'B-': 6, 'B+': 7}\n",
        "df['Blood Type'] = df['Blood Type'].map(d)\n",
        "\n",
        "d = {'Inconclusive': 0, 'Normal': 1, 'Abnormal': 2}\n",
        "df['Test Results'] = df['Test Results'].map(d)\n",
        "\n",
        "d = {'Elective': 0, 'Emergency': 1, 'Urgent': 2}\n",
        "df['Admission Type'] = df['Admission Type'].map(d)\n",
        "\n",
        "\n",
        "d = {'Diabetes': 0, 'Asthma': 1, 'Obesity': 2, 'Arthritis': 3, 'Hypertension': 4, 'Cancer' :5}\n",
        "df['Medical Condition'] = df['Medical Condition'].map(d)\n",
        "\n",
        "d = {'Yes': 1, 'No': 0}\n",
        "df['Special Care'] = df['Special Care'].map(d)\n",
        "print(df)"
      ],
      "metadata": {
        "colab": {
          "base_uri": "https://localhost:8080/"
        },
        "id": "xA7aNd8mdixq",
        "outputId": "273be868-2327-4c0c-dab8-fe586dbe5aa2"
      },
      "execution_count": null,
      "outputs": [
        {
          "output_type": "stream",
          "name": "stdout",
          "text": [
            "                   Name  Age  Gender  Blood Type  Medical Condition  \\\n",
            "0       Tiffany Ramirez   81       0           5                  0   \n",
            "1           Ruben Burns   35       1           4                  1   \n",
            "2             Chad Byrd   61       1           6                  2   \n",
            "3     Antonio Frederick   49       1           6                  1   \n",
            "4   Mrs. Brandy Flowers   51       1           5                  3   \n",
            "..                  ...  ...     ...         ...                ...   \n",
            "94           Jason Horn   81       1           2                  3   \n",
            "95         Samuel Welch   44       1           6                  4   \n",
            "96         Steven Boyer   38       1           7                  3   \n",
            "97    Gabrielle Francis   81       1           0                  1   \n",
            "98   Christian Guerrero   20       1           7                  5   \n",
            "\n",
            "    Admission Type  Medication  Test Results  Special Care  \n",
            "0                0           0             0             1  \n",
            "1                1           1             1             0  \n",
            "2                1           1             1             0  \n",
            "3                2           2             2             1  \n",
            "4                2           3             1             1  \n",
            "..             ...         ...           ...           ...  \n",
            "94               2           0             0             1  \n",
            "95               0           0             2             1  \n",
            "96               1           4             2             0  \n",
            "97               0           4             2             1  \n",
            "98               2           0             0             1  \n",
            "\n",
            "[99 rows x 9 columns]\n"
          ]
        }
      ]
    },
    {
      "cell_type": "code",
      "source": [
        "  column_to_remove = 'Name'"
      ],
      "metadata": {
        "id": "7gW2j4B_di1G"
      },
      "execution_count": null,
      "outputs": []
    },
    {
      "cell_type": "code",
      "source": [
        "df = df.drop(column_to_remove, axis=1)"
      ],
      "metadata": {
        "id": "HRYHdnDJfMrW"
      },
      "execution_count": null,
      "outputs": []
    },
    {
      "cell_type": "code",
      "source": [
        "print(\"\\nDataFrame after removing the variable:\")\n",
        "print(df)"
      ],
      "metadata": {
        "colab": {
          "base_uri": "https://localhost:8080/"
        },
        "id": "rZd2bWOUfPwg",
        "outputId": "c19aef80-b8ad-4172-b565-6720fcce87db"
      },
      "execution_count": null,
      "outputs": [
        {
          "output_type": "stream",
          "name": "stdout",
          "text": [
            "\n",
            "DataFrame after removing the variable:\n",
            "    Age  Gender  Blood Type  Medical Condition  Admission Type  Medication  \\\n",
            "0    81       0           5                  0               0           0   \n",
            "1    35       1           4                  1               1           1   \n",
            "2    61       1           6                  2               1           1   \n",
            "3    49       1           6                  1               2           2   \n",
            "4    51       1           5                  3               2           3   \n",
            "..  ...     ...         ...                ...             ...         ...   \n",
            "94   81       1           2                  3               2           0   \n",
            "95   44       1           6                  4               0           0   \n",
            "96   38       1           7                  3               1           4   \n",
            "97   81       1           0                  1               0           4   \n",
            "98   20       1           7                  5               2           0   \n",
            "\n",
            "    Test Results  Special Care  \n",
            "0              0             1  \n",
            "1              1             0  \n",
            "2              1             0  \n",
            "3              2             1  \n",
            "4              1             1  \n",
            "..           ...           ...  \n",
            "94             0             1  \n",
            "95             2             1  \n",
            "96             2             0  \n",
            "97             2             1  \n",
            "98             0             1  \n",
            "\n",
            "[99 rows x 8 columns]\n"
          ]
        }
      ]
    },
    {
      "cell_type": "code",
      "source": [
        "features = ['Age', 'Gender', 'Blood Type', 'Medical Condition',  'Admission Type',  'Medication', 'Test Results']\n",
        "\n",
        "X = df[features]\n",
        "y = df['Special Care']\n",
        "\n",
        "print(X)\n",
        "print('\\n\\n')\n",
        "print(y)"
      ],
      "metadata": {
        "colab": {
          "base_uri": "https://localhost:8080/"
        },
        "id": "jPOSMX1afa8r",
        "outputId": "fdfdd3ca-e218-4641-847f-092b2efdde2b"
      },
      "execution_count": null,
      "outputs": [
        {
          "output_type": "stream",
          "name": "stdout",
          "text": [
            "    Age  Gender  Blood Type  Medical Condition  Admission Type  Medication  \\\n",
            "0    81       0           5                  0               0           0   \n",
            "1    35       1           4                  1               1           1   \n",
            "2    61       1           6                  2               1           1   \n",
            "3    49       1           6                  1               2           2   \n",
            "4    51       1           5                  3               2           3   \n",
            "..  ...     ...         ...                ...             ...         ...   \n",
            "94   81       1           2                  3               2           0   \n",
            "95   44       1           6                  4               0           0   \n",
            "96   38       1           7                  3               1           4   \n",
            "97   81       1           0                  1               0           4   \n",
            "98   20       1           7                  5               2           0   \n",
            "\n",
            "    Test Results  \n",
            "0              0  \n",
            "1              1  \n",
            "2              1  \n",
            "3              2  \n",
            "4              1  \n",
            "..           ...  \n",
            "94             0  \n",
            "95             2  \n",
            "96             2  \n",
            "97             2  \n",
            "98             0  \n",
            "\n",
            "[99 rows x 7 columns]\n",
            "\n",
            "\n",
            "\n",
            "0     1\n",
            "1     0\n",
            "2     0\n",
            "3     1\n",
            "4     1\n",
            "     ..\n",
            "94    1\n",
            "95    1\n",
            "96    0\n",
            "97    1\n",
            "98    1\n",
            "Name: Special Care, Length: 99, dtype: int64\n"
          ]
        }
      ]
    },
    {
      "cell_type": "code",
      "source": [
        "from sklearn.tree import DecisionTreeClassifier"
      ],
      "metadata": {
        "id": "L6CGSLFEfa5P"
      },
      "execution_count": null,
      "outputs": []
    },
    {
      "cell_type": "code",
      "source": [
        "dtree = DecisionTreeClassifier(criterion='entropy')\n",
        "dtree = dtree.fit(X, y)"
      ],
      "metadata": {
        "id": "KmY3WSMFfa3L"
      },
      "execution_count": null,
      "outputs": []
    },
    {
      "cell_type": "code",
      "source": [
        "import pandas"
      ],
      "metadata": {
        "id": "As61YXG2jPoZ"
      },
      "execution_count": null,
      "outputs": []
    },
    {
      "cell_type": "code",
      "source": [
        "df = pandas.read_csv(\"test set.csv\")"
      ],
      "metadata": {
        "id": "JHb5hkPAjA9A"
      },
      "execution_count": null,
      "outputs": []
    },
    {
      "cell_type": "code",
      "source": [
        "test = pandas.read_csv(\"test set.csv\")"
      ],
      "metadata": {
        "id": "Ogqe_xDlisFv"
      },
      "execution_count": null,
      "outputs": []
    },
    {
      "cell_type": "code",
      "source": [],
      "metadata": {
        "id": "ar0P_3UfkK6w"
      },
      "execution_count": null,
      "outputs": []
    },
    {
      "cell_type": "code",
      "source": [
        "\n",
        "d = {'Female': 0, 'Male': 1}\n",
        "test['Gender'] = df['Gender'].map(d)"
      ],
      "metadata": {
        "id": "ipuSOZzkfa0V"
      },
      "execution_count": null,
      "outputs": []
    },
    {
      "cell_type": "code",
      "source": [
        "d = {'Aspirin': 0, 'Lipitor': 1, 'Penicillin': 2, 'Paracetamol': 3, 'Ibuprofen': 4}\n",
        "test['Medication'] = df['Medication'].map(d)\n",
        "\n",
        "d = {'A-': 0, 'A+': 1, 'AB+': 2, 'AB-': 3, 'O+': 4, 'O-' :5, 'B-': 6, 'B+': 7}\n",
        "test['Blood Type'] = df['Blood Type'].map(d)\n",
        "\n",
        "d = {'Inconclusive': 0, 'Normal': 1, 'Abnormal': 2}\n",
        "test['Test Results'] = df['Test Results'].map(d)\n",
        "\n",
        "d = {'Elective': 0, 'Emergency': 1, 'Urgent': 2}\n",
        "test['Admission Type'] = df['Admission Type'].map(d)\n",
        "\n",
        "\n",
        "d = {'Diabetes': 0, 'Asthma': 1, 'Obesity': 2, 'Arthritis': 3, 'Hypertension': 4, 'Cancer' :5}\n",
        "test['Medical Condition'] = df['Medical Condition'].map(d)\n",
        "print(test)\n",
        "\n"
      ],
      "metadata": {
        "colab": {
          "base_uri": "https://localhost:8080/"
        },
        "id": "dQgxA7x4favp",
        "outputId": "1694ac2e-9d67-4c06-ba74-cb0f9bfca7ef"
      },
      "execution_count": null,
      "outputs": [
        {
          "output_type": "stream",
          "name": "stdout",
          "text": [
            "    Age  Gender  Blood Type  Medical Condition  Admission Type  Medication  \\\n",
            "0    81       0           5                  0               0           0   \n",
            "1    35       1           4                  1               1           1   \n",
            "2    61       1           6                  2               1           1   \n",
            "3    49       1           6                  1               2           2   \n",
            "4    51       1           5                  3               2           3   \n",
            "..  ...     ...         ...                ...             ...         ...   \n",
            "94   81       1           2                  3               2           0   \n",
            "95   44       1           6                  4               0           0   \n",
            "96   38       1           7                  3               1           4   \n",
            "97   81       1           0                  1               0           4   \n",
            "98   20       1           7                  5               2           0   \n",
            "\n",
            "    Test Results  \n",
            "0              0  \n",
            "1              1  \n",
            "2              1  \n",
            "3              2  \n",
            "4              1  \n",
            "..           ...  \n",
            "94             0  \n",
            "95             2  \n",
            "96             2  \n",
            "97             2  \n",
            "98             0  \n",
            "\n",
            "[99 rows x 7 columns]\n"
          ]
        }
      ]
    },
    {
      "cell_type": "code",
      "source": [
        "y_pred = dtree.predict(test)\n",
        "print(y_pred)"
      ],
      "metadata": {
        "colab": {
          "base_uri": "https://localhost:8080/"
        },
        "id": "PZpkel7fjqpk",
        "outputId": "6b0206b0-af7f-488c-8928-8d74644bc628"
      },
      "execution_count": null,
      "outputs": [
        {
          "output_type": "stream",
          "name": "stdout",
          "text": [
            "[1 0 0 1 1 1 1 1 1 1 0 0 1 1 0 0 1 1 1 0 0 1 0 1 1 1 1 0 1 0 0 0 1 1 0 0 0\n",
            " 1 1 0 1 0 1 0 0 0 1 0 0 1 0 1 1 0 0 0 0 1 1 1 0 1 0 1 1 1 0 1 1 1 1 0 0 1\n",
            " 1 1 0 0 0 0 0 1 0 1 1 1 0 1 1 1 0 1 0 0 1 1 0 1 1]\n"
          ]
        }
      ]
    },
    {
      "cell_type": "code",
      "source": [
        "from sklearn import tree\n",
        "import pydotplus\n",
        "import matplotlib.pyplot as plt\n",
        "import matplotlib.image as pltimg"
      ],
      "metadata": {
        "id": "z7QLtCVXmO7e"
      },
      "execution_count": null,
      "outputs": []
    },
    {
      "cell_type": "code",
      "source": [
        "from sklearn.metrics import accuracy_score"
      ],
      "metadata": {
        "id": "SYOBRb62mTxZ"
      },
      "execution_count": null,
      "outputs": []
    },
    {
      "cell_type": "code",
      "source": [
        "from sklearn.datasets import make_classification\n",
        "from sklearn.tree import DecisionTreeClassifier\n",
        "from sklearn.model_selection import train_test_split\n",
        "from sklearn.metrics import precision_score, recall_score, accuracy_score, f1_score, classification_report\n"
      ],
      "metadata": {
        "id": "pf4yHqc1oiAP"
      },
      "execution_count": null,
      "outputs": []
    },
    {
      "cell_type": "code",
      "source": [
        "X, y = make_classification(n_samples=99, n_features=7, n_informative=2, n_redundant=0, random_state=42)\n"
      ],
      "metadata": {
        "id": "LIuRqPUaoyFh"
      },
      "execution_count": null,
      "outputs": []
    },
    {
      "cell_type": "code",
      "source": [
        "_train, X_test, y_train, y_test = train_test_split(X, y, test_size=0.2, random_state=42)"
      ],
      "metadata": {
        "id": "Jk5nA696o9Cu"
      },
      "execution_count": null,
      "outputs": []
    },
    {
      "cell_type": "code",
      "source": [
        "decision_tree_classifier = DecisionTreeClassifier(random_state=42)"
      ],
      "metadata": {
        "id": "hXsrYY_Bo_5R"
      },
      "execution_count": null,
      "outputs": []
    },
    {
      "cell_type": "code",
      "source": [
        "X, y = make_classification(n_samples=1000, n_features=4, n_informative=2, n_redundant=0, random_state=42)\n",
        "\n",
        "\n",
        "X_train, X_test, y_train, y_test = train_test_split(X, y, test_size=0.2, random_state=42)\n",
        "decision_tree_classifier = DecisionTreeClassifier(random_state=42)\n",
        "decision_tree_classifier.fit(X_train, y_train)\n",
        "y_pred = decision_tree_classifier.predict(X_test)\n",
        "\n",
        "# Evaluate the model\n",
        "precision = precision_score(y_test, y_pred)\n",
        "recall = recall_score(y_test, y_pred)\n",
        "accuracy = accuracy_score(y_test, y_pred)\n",
        "f1 = f1_score(y_test, y_pred)\n",
        "\n",
        "print(f'Precision: {precision}')\n",
        "print(f'Recall: {recall}')\n",
        "print(f'Accuracy: {accuracy}')\n",
        "print(f'F1 Score: {f1}')\n",
        "\n",
        "# Display classification report\n",
        "print('\\nClassification Report:')\n",
        "print(classification_report(y_test, y_pred))"
      ],
      "metadata": {
        "colab": {
          "base_uri": "https://localhost:8080/"
        },
        "id": "7i7D_yTAqFqp",
        "outputId": "00f6f645-08c0-4f80-a95b-09ac8f25a17e"
      },
      "execution_count": null,
      "outputs": [
        {
          "output_type": "stream",
          "name": "stdout",
          "text": [
            "Precision: 0.8585858585858586\n",
            "Recall: 0.9139784946236559\n",
            "Accuracy: 0.89\n",
            "F1 Score: 0.8854166666666665\n",
            "\n",
            "Classification Report:\n",
            "              precision    recall  f1-score   support\n",
            "\n",
            "           0       0.92      0.87      0.89       107\n",
            "           1       0.86      0.91      0.89        93\n",
            "\n",
            "    accuracy                           0.89       200\n",
            "   macro avg       0.89      0.89      0.89       200\n",
            "weighted avg       0.89      0.89      0.89       200\n",
            "\n"
          ]
        }
      ]
    },
    {
      "cell_type": "code",
      "source": [
        "print(f'Accuracy: {accuracy}')"
      ],
      "metadata": {
        "colab": {
          "base_uri": "https://localhost:8080/"
        },
        "id": "2uFa3okXt7_d",
        "outputId": "924732f2-6d82-4f73-e83b-d073f8b08e70"
      },
      "execution_count": null,
      "outputs": [
        {
          "output_type": "stream",
          "name": "stdout",
          "text": [
            "Accuracy: 0.89\n"
          ]
        }
      ]
    },
    {
      "cell_type": "code",
      "source": [
        "from sklearn import tree\n",
        "import matplotlib.pyplot as plt\n",
        "plt.figure(figsize=(9,9))#size given using figsize\n",
        "tree.plot_tree(dtree,feature_names= features,filled=True)"
      ],
      "metadata": {
        "colab": {
          "base_uri": "https://localhost:8080/",
          "height": 817
        },
        "id": "7JgC0KwGuG2x",
        "outputId": "3d3ea975-e64f-4ddd-9a84-7d36806e11b6"
      },
      "execution_count": null,
      "outputs": [
        {
          "output_type": "execute_result",
          "data": {
            "text/plain": [
              "[Text(0.4, 0.8333333333333334, 'Admission Type <= 0.5\\nentropy = 0.991\\nsamples = 99\\nvalue = [44, 55]'),\n",
              " Text(0.2, 0.5, 'entropy = 0.0\\nsamples = 28\\nvalue = [0, 28]'),\n",
              " Text(0.6, 0.5, 'Admission Type <= 1.5\\nentropy = 0.958\\nsamples = 71\\nvalue = [44, 27]'),\n",
              " Text(0.4, 0.16666666666666666, 'entropy = 0.0\\nsamples = 44\\nvalue = [44, 0]'),\n",
              " Text(0.8, 0.16666666666666666, 'entropy = 0.0\\nsamples = 27\\nvalue = [0, 27]')]"
            ]
          },
          "metadata": {},
          "execution_count": 212
        },
        {
          "output_type": "display_data",
          "data": {
            "text/plain": [
              "<Figure size 900x900 with 1 Axes>"
            ],
            "image/png": "[encoded data removed]"
          },
          "metadata": {}
        }
      ]
    },
    {
      "cell_type": "code",
      "source": [
        "print(f'Accuracy: {accuracy}, F1 Score: {f1}, Precision: {precision}, Recall: {recall}')"
      ],
      "metadata": {
        "colab": {
          "base_uri": "https://localhost:8080/"
        },
        "id": "2uuJyx0FuMuU",
        "outputId": "89302a6b-afc4-49a8-f6f2-c352f11567c8"
      },
      "execution_count": null,
      "outputs": [
        {
          "output_type": "stream",
          "name": "stdout",
          "text": [
            "Accuracy: 0.89, F1 Score: 0.8854166666666665, Precision: 0.8585858585858586, Recall: 0.9139784946236559\n"
          ]
        }
      ]
    },
    {
      "cell_type": "code",
      "source": [
        "from sklearn.metrics import accuracy_score, classification_report, confusion_matrix"
      ],
      "metadata": {
        "id": "Cs6aNrqtvoc0"
      },
      "execution_count": null,
      "outputs": []
    },
    {
      "cell_type": "code",
      "source": [
        "classification_rep = classification_report(y_test, y_pred)\n",
        "print(\"Classification Report:\\n\", classification_rep)"
      ],
      "metadata": {
        "colab": {
          "base_uri": "https://localhost:8080/"
        },
        "id": "niDi3xqcvpgL",
        "outputId": "b09a59f9-c267-4c9a-c907-96693cfe8025"
      },
      "execution_count": null,
      "outputs": [
        {
          "output_type": "stream",
          "name": "stdout",
          "text": [
            "Classification Report:\n",
            "               precision    recall  f1-score   support\n",
            "\n",
            "           0       0.92      0.87      0.89       107\n",
            "           1       0.86      0.91      0.89        93\n",
            "\n",
            "    accuracy                           0.89       200\n",
            "   macro avg       0.89      0.89      0.89       200\n",
            "weighted avg       0.89      0.89      0.89       200\n",
            "\n"
          ]
        }
      ]
    },
    {
      "cell_type": "code",
      "source": [
        "conf_matrix = confusion_matrix(y_test, y_pred)\n",
        "print(\"Confusion Matrix:\\n\", conf_matrix)"
      ],
      "metadata": {
        "colab": {
          "base_uri": "https://localhost:8080/"
        },
        "id": "yVNOfiyVvuOS",
        "outputId": "64fd8439-576c-47f3-ac97-36862937ee0c"
      },
      "execution_count": null,
      "outputs": [
        {
          "output_type": "stream",
          "name": "stdout",
          "text": [
            "Confusion Matrix:\n",
            " [[93 14]\n",
            " [ 8 85]]\n"
          ]
        }
      ]
    }
  ]
}
